{
 "cells": [
  {
   "cell_type": "markdown",
   "metadata": {},
   "source": [
    "# Define Parameters\n",
    "\n",
    "The only parameter required for Lab 0 and 1 is the S3 bucket name.  Set it to the name of your S3 bucket."
   ]
  },
  {
   "cell_type": "code",
   "execution_count": null,
   "metadata": {},
   "outputs": [],
   "source": [
    "BUCKET_NAME = '<s3-bucket-name>'"
   ]
  },
  {
   "cell_type": "markdown",
   "metadata": {},
   "source": [
    "# Add required Python package\n",
    "\n",
    "This workshop requires MXNet.  Install the corresponding Python package."
   ]
  },
  {
   "cell_type": "code",
   "execution_count": null,
   "metadata": {},
   "outputs": [],
   "source": [
    "! pip install mxnet"
   ]
  },
  {
   "cell_type": "markdown",
   "metadata": {},
   "source": [
    "# Explore the images dataset\n",
    "\n",
    "For a 2 hour workshop, we do not have time to work with the complete NABirds dataset of 48,000+ images.  Instead, we operate on a very small subset but go through the entire process that would be used for the complete set.  For the workshop, we use 4 species, and you'll see 4 corresponding subdirectories in the `images` directory.  For the full dataset, you would see 555 species / subdirectories."
   ]
  },
  {
   "cell_type": "code",
   "execution_count": null,
   "metadata": {},
   "outputs": [],
   "source": [
    "% cd ~/SageMaker/bird-classification-workshop\n",
    "! ls images"
   ]
  },
  {
   "cell_type": "markdown",
   "metadata": {},
   "source": [
    "### Examine folder for a single species\n",
    "\n",
    "For each species, there are dozens of images of various shapes and sizes.  By dividing the entire dataset into individual named (numbered) folders, the images are in effect labelled for supervised learning using an image classification algorithm.  The following code creates a Python list of all the image files for one species."
   ]
  },
  {
   "cell_type": "code",
   "execution_count": null,
   "metadata": {},
   "outputs": [],
   "source": [
    "SPECIES = '0772'\n",
    "im_list = !ls images/$SPECIES"
   ]
  },
  {
   "cell_type": "markdown",
   "metadata": {},
   "source": [
    "### Look at thumbnails of the images\n",
    "\n",
    "To get a quick look at the full set of images for a given species, we can write a few lines of Python.  Notice the variety:\n",
    "\n",
    "* image aspect ratios\n",
    "* image sizes\n",
    "* proximity to the bird\n",
    "* background of the scene\n",
    "\n",
    "It is important to have a wide variety to ensure that the trained model is capable of making robust predictions when fed arbitrary new images."
   ]
  },
  {
   "cell_type": "code",
   "execution_count": null,
   "metadata": {
    "scrolled": true
   },
   "outputs": [],
   "source": [
    "print('Initializing a large matplotlib.pylot figure...')\n",
    "\n",
    "import matplotlib.pyplot as plt\n",
    "%matplotlib inline\n",
    "\n",
    "NUM_COLS = 4\n",
    "IM_COUNT = len(im_list)\n",
    "NUM_ROWS = int(IM_COUNT / NUM_COLS)\n",
    "if ((IM_COUNT % NUM_COLS) > 0):\n",
    "    NUM_ROWS += 1\n",
    "\n",
    "fig, axarr = plt.subplots(NUM_ROWS, NUM_COLS)\n",
    "fig.set_size_inches(16.0, 64.0, forward=True)\n",
    "\n",
    "print('Reading each image file and showing it in a grid (this could take a few seconds)...')\n",
    "curr_row = 0\n",
    "for curr_img in range(IM_COUNT):\n",
    "    # fetch the url as a file type object, then read the image\n",
    "    f = 'images/' + SPECIES + '/' + im_list[curr_img]\n",
    "    a = plt.imread(f)\n",
    "\n",
    "    # find the column by taking the current index modulo 3\n",
    "    col = curr_img % NUM_ROWS\n",
    "    # plot on relevant subplot\n",
    "    axarr[col, curr_row].imshow(a)\n",
    "    if col == (NUM_ROWS - 1):\n",
    "        # we have finished the current row, so increment row counter\n",
    "        curr_row += 1\n",
    "        \n",
    "print('Species ' + SPECIES + ' has ' + str(IM_COUNT) + ' images.')\n",
    "\n",
    "fig.tight_layout()       \n",
    "\n",
    "print('Displaying thumbnails of all images in this folder (this could take a few seconds)...')\n",
    "plt.show()"
   ]
  },
  {
   "cell_type": "markdown",
   "metadata": {},
   "source": [
    "# Package the images in RecordIO format\n",
    "\n",
    "To use these images with SageMaker's Image Classification algorithm, they need to be packaged in RecordIO format.  This involves 2 steps:\n",
    "\n",
    "1. Generate the list file containing the filenames of the images and the species identifier.  There is one `.lst` file created for training images and another for validation images.\n",
    "2. Use the list files to create binary `.rec` files, one for training and another for validation.\n",
    "\n",
    "MXNet provides a Python script called `im2rec` (**image** file to **RecordIO** file) to make it easy to perform these steps.\n",
    "\n",
    "### Generate .lst files\n",
    "\n",
    "The next cell does the first step of creating the `.lst` files given a ratio for the split between training data and validation data.  Notice the significant size difference between the two files.  We also display the tail of the validation file, so you can see the format which has 3 columns:\n",
    "\n",
    "1. A unique number for the file within the total set of images.\n",
    "2. The label for this image.  The label is a number between 0 and one less than the number of total classes / categories / species.  In our workshop, we are using only 4 species, so the label is one of 0, 1, 2, or 3.\n",
    "3. The relative path to the image file from the `images` folder."
   ]
  },
  {
   "cell_type": "code",
   "execution_count": null,
   "metadata": {},
   "outputs": [],
   "source": [
    "TRAIN_RATIO = 0.75\n",
    "\n",
    "% cd ~/SageMaker/bird-classification-workshop/labs/lab1\n",
    "\n",
    "print('\\nGenerating .lst files.  This could take a minute...\\n')\n",
    "! python im2rec.py --list --recursive --train-ratio $TRAIN_RATIO nabirds_sample2 ../../images/\n",
    "\n",
    "print('\\nHere are the resulting files:')\n",
    "! ls -l *.lst\n",
    "\n",
    "print('\\nHere are the last few lines of the validation list file:')\n",
    "! tail *val.lst"
   ]
  },
  {
   "cell_type": "markdown",
   "metadata": {},
   "source": [
    "### Generate .rec files\n",
    "\n",
    "Now that the `.lst` files are created, the next step is to create the RecordIO files.  For the workshop, since we are only working with 4 species, the `.rec` files are not that large.  The full dataset of NABirds images contains 555 species, making the resulting `.rec` files more than 100 times larger than these."
   ]
  },
  {
   "cell_type": "code",
   "execution_count": null,
   "metadata": {},
   "outputs": [],
   "source": [
    "print('Generating packaged RecordIO files.  This could take a few minutes...\\n')\n",
    "! python im2rec.py --resize 256 nabirds_sample2 ../../images/\n",
    "\n",
    "print('\\nHere are the resulting files:')\n",
    "! ls -l *.rec"
   ]
  },
  {
   "cell_type": "markdown",
   "metadata": {},
   "source": [
    "# Make the .rec files available for training\n",
    "\n",
    "Now that the `.rec` files have been created, they must be made available in S3.  The SageMaker training job pulls the `.rec` files from S3 at the start of the job, and it creates the model artifacts in S3 once training is complete."
   ]
  },
  {
   "cell_type": "code",
   "execution_count": null,
   "metadata": {},
   "outputs": [],
   "source": [
    "print('Copying the packaged RecordIO files to S3 (this could take a minute)...')\n",
    "! aws s3 cp nabirds_sample2_train.rec s3://$BUCKET_NAME/train/nabirds_sample2_train.rec\n",
    "! aws s3 cp nabirds_sample2_val.rec s3://$BUCKET_NAME/validation/nabirds_sample2_val.rec\n",
    "\n",
    "print('\\nHere are the resulting files in S3:')    \n",
    "! aws s3 ls s3://$BUCKET_NAME/train/\n",
    "! aws s3 ls s3://$BUCKET_NAME/validation/"
   ]
  }
 ],
 "metadata": {
  "kernelspec": {
   "display_name": "conda_python3",
   "language": "python",
   "name": "conda_python3"
  },
  "language_info": {
   "codemirror_mode": {
    "name": "ipython",
    "version": 3
   },
   "file_extension": ".py",
   "mimetype": "text/x-python",
   "name": "python",
   "nbconvert_exporter": "python",
   "pygments_lexer": "ipython3",
   "version": "3.6.5"
  }
 },
 "nbformat": 4,
 "nbformat_minor": 2
}
