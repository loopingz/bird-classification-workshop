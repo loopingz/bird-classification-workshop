{
 "cells": [
  {
   "cell_type": "markdown",
   "metadata": {},
   "source": [
    "# Define Parameters\n",
    "\n",
    "The only parameter you need to provide for Lab 1 is the S3 bucket name.  Set it to the name of your S3 bucket.  TRAIN_RATIO is used to identify the percentage of the images to use as training images.  The remaining images are used for validation."
   ]
  },
  {
   "cell_type": "code",
   "execution_count": null,
   "metadata": {},
   "outputs": [],
   "source": [
    "BUCKET_NAME = '<s3-bucket-name>'\n",
    "\n",
    "TRAIN_RATIO = 0.75\n",
    "\n",
    "import matplotlib.pyplot as plt\n",
    "%matplotlib inline"
   ]
  },
  {
   "cell_type": "markdown",
   "metadata": {},
   "source": [
    "# Add required Python package\n",
    "\n",
    "This workshop requires MXNet, which also requires OpenCV.  Install the corresponding Python packages in this next cell."
   ]
  },
  {
   "cell_type": "code",
   "execution_count": null,
   "metadata": {},
   "outputs": [],
   "source": [
    "! pip install mxnet --user\n",
    "! pip install opencv-python --user\n",
    "\n",
    "# for some reason, boto3 can get errors with certain versions of the AWS CLI.\n",
    "# To avoid hitting errors like 'serviceID not defined in the medata ...', we install\n",
    "# a specific AWS CLI verion.\n",
    "! pip install awscli==1.16.9 awsebcli==3.14.4 --user"
   ]
  },
  {
   "cell_type": "markdown",
   "metadata": {},
   "source": [
    "# Explore the images dataset\n",
    "\n",
    "For a 2 hour workshop, we do not have time to work with the complete NABirds dataset of 48,000+ images.  Instead, we operate on a very small subset but go through the entire process that would be used for the complete set.  For the workshop, we use 4 species, and you'll see 4 corresponding subdirectories in the `images` directory.  For the full dataset, you would see 555 species / subdirectories."
   ]
  },
  {
   "cell_type": "code",
   "execution_count": null,
   "metadata": {},
   "outputs": [],
   "source": [
    "% cd ~/SageMaker/bird-classification-workshop\n",
    "! ls images"
   ]
  },
  {
   "cell_type": "markdown",
   "metadata": {},
   "source": [
    "### Examine folder for each sample species\n",
    "\n",
    "For each species, there are dozens of images of various shapes and sizes.  By dividing the entire dataset into individual named (numbered) folders, the images are in effect labelled for supervised learning using an image classification algorithm.  The following function shows a grid of thumbnail images for all the image files for a given species."
   ]
  },
  {
   "cell_type": "code",
   "execution_count": null,
   "metadata": {
    "scrolled": true
   },
   "outputs": [],
   "source": [
    "def show_species(species_id):\n",
    "    _im_list = !ls ~/SageMaker/bird-classification-workshop/images/$species_id\n",
    "\n",
    "    print('Initializing a large matplotlib.pylot figure...')\n",
    "\n",
    "    NUM_COLS = 4\n",
    "    IM_COUNT = len(_im_list)\n",
    "\n",
    "    print('Species ' + species_id + ' has ' + str(IM_COUNT) + ' images.')\n",
    "    \n",
    "    NUM_ROWS = int(IM_COUNT / NUM_COLS)\n",
    "    if ((IM_COUNT % NUM_COLS) > 0):\n",
    "        NUM_ROWS += 1\n",
    "\n",
    "    fig, axarr = plt.subplots(NUM_ROWS, NUM_COLS)\n",
    "    fig.set_size_inches(16.0, 64.0, forward=True)\n",
    "\n",
    "    print('Reading each image file and showing it in a grid (this could take a few seconds)...')\n",
    "    curr_row = 0\n",
    "    for curr_img in range(IM_COUNT):\n",
    "        # fetch the url as a file type object, then read the image\n",
    "        f = 'images/' + species_id + '/' + _im_list[curr_img]\n",
    "        a = plt.imread(f)\n",
    "\n",
    "        # find the column by taking the current index modulo 3\n",
    "        col = curr_img % NUM_ROWS\n",
    "        # plot on relevant subplot\n",
    "        axarr[col, curr_row].imshow(a)\n",
    "        if col == (NUM_ROWS - 1):\n",
    "            # we have finished the current row, so increment row counter\n",
    "            curr_row += 1\n",
    "\n",
    "    fig.tight_layout()       \n",
    "\n",
    "    print('Displaying thumbnails of all images in this folder (this could take a few seconds)...')\n",
    "    plt.show()"
   ]
  },
  {
   "cell_type": "markdown",
   "metadata": {},
   "source": [
    "### Look at thumbnails of the images\n",
    "\n",
    "Examine the images for the sample species. Notice the variety:\n",
    "\n",
    "* image aspect ratios\n",
    "* image sizes\n",
    "* size of the bird relative to the scene\n",
    "* background of the scene\n",
    "\n",
    "It is important to have a wide variety to ensure that the trained model is capable of making robust predictions when fed arbitrary new images.  Note that when we train the image classification model, SageMaker gives us an `augmentation` hyperparameter.  When set to `crop`, it will double the number of training images on your behalf, make a copy of each and flipping the image on the horizontal axis.  So, if the original image has a bird facing to the left, a copy will be added with the bird facing to the right.  This boosts the ability of the model to handle new images, as they could be facing in any direction."
   ]
  },
  {
   "cell_type": "markdown",
   "metadata": {},
   "source": [
    "#### Purple Martin"
   ]
  },
  {
   "cell_type": "code",
   "execution_count": null,
   "metadata": {},
   "outputs": [],
   "source": [
    "show_species('0752')"
   ]
  },
  {
   "cell_type": "markdown",
   "metadata": {},
   "source": [
    "#### Northern Cardinal"
   ]
  },
  {
   "cell_type": "code",
   "execution_count": null,
   "metadata": {},
   "outputs": [],
   "source": [
    "show_species('0772')"
   ]
  },
  {
   "cell_type": "markdown",
   "metadata": {},
   "source": [
    "#### American Goldfinch"
   ]
  },
  {
   "cell_type": "code",
   "execution_count": null,
   "metadata": {},
   "outputs": [],
   "source": [
    "show_species('0794')"
   ]
  },
  {
   "cell_type": "markdown",
   "metadata": {},
   "source": [
    "#### Eastern Bluebird"
   ]
  },
  {
   "cell_type": "code",
   "execution_count": null,
   "metadata": {},
   "outputs": [],
   "source": [
    "show_species('0842')"
   ]
  },
  {
   "cell_type": "markdown",
   "metadata": {},
   "source": [
    "# Package the images in RecordIO format\n",
    "\n",
    "The following figure illustrates the process of packaging the images.\n",
    "\n",
    "![](./docs/screenshots/prepare_images.png)\n",
    "\n",
    "To use these images with SageMaker's Image Classification algorithm, they need to be packaged in RecordIO format.  This involves 2 steps:\n",
    "\n",
    "1. Generate the list file containing the filenames of the images and the species identifier.  There is one `.lst` file created for training images and another for validation images.\n",
    "2. Use the list files to create binary `.rec` files, one for training and another for validation.\n",
    "\n",
    "MXNet provides a Python script called `im2rec` (**image** file to **RecordIO** file) to make it easy to perform these steps.\n",
    "\n",
    "### Generate .lst files\n",
    "\n",
    "The next cell does the first step of creating the `.lst` files given a ratio for the split between training data and validation data.  Notice the significant size difference between the two files.  We also display the tail of the validation file, so you can see the format which has 3 columns:\n",
    "\n",
    "1. A unique number for the file within the total set of images.\n",
    "2. The label for this image.  The label is a number between 0 and one less than the number of total classes / categories / species.  In our workshop, we are using only 4 species, so the label is one of 0, 1, 2, or 3.\n",
    "3. The relative path to the image file from the `images` folder."
   ]
  },
  {
   "cell_type": "code",
   "execution_count": null,
   "metadata": {},
   "outputs": [],
   "source": [
    "% cd ~/SageMaker/bird-classification-workshop/labs/lab1\n",
    "\n",
    "print('\\nGenerating .lst files.  This could take a minute...\\n')\n",
    "! python im2rec.py --list --recursive --train-ratio $TRAIN_RATIO nabirds_sample ../../images/\n",
    "\n",
    "print('\\nHere are the resulting files:')\n",
    "! ls -l *.lst\n",
    "\n",
    "print('\\nHere are the last few lines of the validation list file:')\n",
    "! tail *val.lst"
   ]
  },
  {
   "cell_type": "markdown",
   "metadata": {},
   "source": [
    "### Generate .rec files\n",
    "\n",
    "Now that the `.lst` files are created, the next step is to create the RecordIO files.  For the workshop, since we are only working with 4 species, the `.rec` files are not that large.  The full dataset of NABirds images contains 555 species, making the resulting `.rec` files more than 100 times larger than these."
   ]
  },
  {
   "cell_type": "code",
   "execution_count": null,
   "metadata": {},
   "outputs": [],
   "source": [
    "print('Generating packaged RecordIO files.  This could take a few minutes...\\n')\n",
    "! python im2rec.py --resize 256 nabirds_sample ../../images/\n",
    "\n",
    "print('\\nHere are the resulting files:')\n",
    "! ls -l *.rec"
   ]
  },
  {
   "cell_type": "markdown",
   "metadata": {},
   "source": [
    "# Make the .rec files available for training\n",
    "\n",
    "Now that the `.rec` files have been created, they must be made available in S3.  The SageMaker training job pulls the `.rec` files from S3 at the start of the job, and it creates the model artifacts in S3 once training is complete."
   ]
  },
  {
   "cell_type": "code",
   "execution_count": null,
   "metadata": {},
   "outputs": [],
   "source": [
    "print('Copying the packaged RecordIO files to S3 (this could take a minute)...')\n",
    "! aws s3 cp nabirds_sample_train.rec s3://$BUCKET_NAME/train/nabirds_sample_train.rec\n",
    "! aws s3 cp nabirds_sample_val.rec s3://$BUCKET_NAME/validation/nabirds_sample_val.rec\n",
    "\n",
    "print('\\nHere are the resulting files in S3:')    \n",
    "! aws s3 ls s3://$BUCKET_NAME/train/\n",
    "! aws s3 ls s3://$BUCKET_NAME/validation/"
   ]
  },
  {
   "cell_type": "code",
   "execution_count": null,
   "metadata": {},
   "outputs": [],
   "source": []
  }
 ],
 "metadata": {
  "kernelspec": {
   "display_name": "conda_python3",
   "language": "python",
   "name": "conda_python3"
  },
  "language_info": {
   "codemirror_mode": {
    "name": "ipython",
    "version": 3
   },
   "file_extension": ".py",
   "mimetype": "text/x-python",
   "name": "python",
   "nbconvert_exporter": "python",
   "pygments_lexer": "ipython3",
   "version": "3.6.5"
  }
 },
 "nbformat": 4,
 "nbformat_minor": 2
}
